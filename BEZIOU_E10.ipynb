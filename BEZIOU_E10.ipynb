{
 "cells": [
  {
   "cell_type": "code",
   "execution_count": 8,
   "metadata": {},
   "outputs": [],
   "source": [
    "import pulp\n"
   ]
  },
  {
   "cell_type": "code",
   "execution_count": 9,
   "metadata": {},
   "outputs": [],
   "source": [
    "revenue = [15, 20, 5, 25, 22, 17]  # Example revenues\n",
    "days = [51, 60, 35, 60, 53, 10]    # Example days\n",
    "max_days = 100                     # Example total available days\n"
   ]
  },
  {
   "cell_type": "code",
   "execution_count": 10,
   "metadata": {},
   "outputs": [],
   "source": [
    "import pulp\n",
    "\n",
    "def solve_branch_and_bound(revenue, days, max_days):\n",
    "    \"\"\"\n",
    "    Solves the integer optimization problem using the Branch and Bound algorithm.\n",
    "\n",
    "    Parameters:\n",
    "    - revenue: List of revenues for each project\n",
    "    - days: List of days required for each project\n",
    "    - max_days: Total available researcher days\n",
    "\n",
    "    Returns:\n",
    "    - Selected projects and total revenue\n",
    "    \"\"\"\n",
    "    # Step 1: Define the Linear Programming problem\n",
    "    problem = pulp.LpProblem(\"Maximize_Revenue\", pulp.LpMaximize)\n",
    "    \n",
    "    # Step 2: Define decision variables (binary: 0 or 1)\n",
    "    num_projects = len(revenue)\n",
    "    x = [pulp.LpVariable(f\"x{i+1}\", cat='Binary') for i in range(num_projects)]\n",
    "\n",
    "    # Step 3: Define the objective function (maximize revenue)\n",
    "    problem += pulp.lpSum(revenue[i] * x[i] for i in range(num_projects)), \"Total_Revenue\"\n",
    "\n",
    "    # Step 4: Add the constraint for available researcher days\n",
    "    problem += pulp.lpSum(days[i] * x[i] for i in range(num_projects)) <= max_days, \"Total_Days\"\n",
    "\n",
    "    # Step 5: Solve the problem using Branch and Bound\n",
    "    solver = pulp.PULP_CBC_CMD(msg=True)  # Use CBC solver with Branch and Bound\n",
    "    problem.solve(solver)\n",
    "\n",
    "    # Step 6: Output the solution\n",
    "    selected_projects = [i+1 for i in range(num_projects) if pulp.value(x[i]) == 1]\n",
    "    total_revenue = pulp.value(problem.objective)\n",
    "\n",
    "    print(\"Selected Projects:\", selected_projects)\n",
    "    print(\"Total Revenue:\", total_revenue)\n",
    "    print(\"Solver Status:\", pulp.LpStatus[problem.status])\n",
    "\n",
    "    return selected_projects, total_revenue\n",
    "\n",
    "\n"
   ]
  },
  {
   "cell_type": "code",
   "execution_count": 11,
   "metadata": {},
   "outputs": [
    {
     "name": "stdout",
     "output_type": "stream",
     "text": [
      "Selected Projects: [3, 5, 6]\n",
      "Total Revenue: 44.0\n",
      "Solver Status: Optimal\n"
     ]
    },
    {
     "data": {
      "text/plain": [
       "([3, 5, 6], 44.0)"
      ]
     },
     "execution_count": 11,
     "metadata": {},
     "output_type": "execute_result"
    }
   ],
   "source": [
    "solve_branch_and_bound(revenue, days, max_days)\n"
   ]
  }
 ],
 "metadata": {
  "kernelspec": {
   "display_name": "Python 3",
   "language": "python",
   "name": "python3"
  },
  "language_info": {
   "codemirror_mode": {
    "name": "ipython",
    "version": 3
   },
   "file_extension": ".py",
   "mimetype": "text/x-python",
   "name": "python",
   "nbconvert_exporter": "python",
   "pygments_lexer": "ipython3",
   "version": "3.8.8"
  }
 },
 "nbformat": 4,
 "nbformat_minor": 2
}
